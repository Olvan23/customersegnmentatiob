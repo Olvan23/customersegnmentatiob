{
 "cells": [
  {
   "cell_type": "markdown",
   "metadata": {},
   "source": [
    "##### Import fake data to be used for segmentation"
   ]
  },
  {
   "cell_type": "code",
   "execution_count": null,
   "metadata": {},
   "outputs": [],
   "source": [
    "import pandas as pd\n",
    "from faker import Faker\n",
    "import random"
   ]
  },
  {
   "cell_type": "markdown",
   "metadata": {},
   "source": [
    "##### Create a faker object to generate fake data"
   ]
  },
  {
   "cell_type": "code",
   "execution_count": null,
   "metadata": {},
   "outputs": [],
   "source": [
    "fake = Faker()"
   ]
  },
  {
   "cell_type": "markdown",
   "metadata": {},
   "source": [
    "##### Generate customer data"
   ]
  },
  {
   "cell_type": "code",
   "execution_count": null,
   "metadata": {},
   "outputs": [],
   "source": [
    "num_customers = 2000\n",
    "customer_data = []\n",
    "for _ in range (num_customers):\n",
    "    customer_id = fake.unique.random_int(min=2001, max=9999)\n",
    "    name = fake.name()\n",
    "    email = fake.email()\n",
    "    age = random.randint(18,65)\n",
    "    gender = random.choice(['Male', 'Female', 'Other'])\n",
    "    region = fake.address()\n",
    "    purchase_history = random.randint(0,100) #Number of purchases\n",
    "    total_spend = round(random.uniform(100,5000), 2) #Total money spent\n",
    "    customer_data.append([customer_id, name, email, age, gender, region, purchase_history, total_spend])"
   ]
  },
  {
   "cell_type": "markdown",
   "metadata": {},
   "source": [
    "##### Creata a DataFrame"
   ]
  },
  {
   "cell_type": "code",
   "execution_count": null,
   "metadata": {},
   "outputs": [],
   "source": [
    "columns = ['CustomerID', 'Name', 'Email', 'Age', 'Gender', 'region', 'PurchaseHistory', 'TotalSpend']\n",
    "df = pd.DataFrame(customer_data, columns=columns)"
   ]
  },
  {
   "cell_type": "markdown",
   "metadata": {},
   "source": [
    "##### Save the dataset to a CSV file"
   ]
  },
  {
   "cell_type": "code",
   "execution_count": null,
   "metadata": {},
   "outputs": [],
   "source": [
    "df.to_csv('customer_data.csv', index=False)"
   ]
  },
  {
   "cell_type": "markdown",
   "metadata": {},
   "source": [
    "##### View the dataset in a table"
   ]
  },
  {
   "cell_type": "code",
   "execution_count": null,
   "metadata": {},
   "outputs": [],
   "source": [
    "df = pd.read_csv('customer_data.csv')\n",
    "print(df)"
   ]
  },
  {
   "cell_type": "markdown",
   "metadata": {},
   "source": [
    "##### Read the CSV file into a Pandas DataFrame"
   ]
  },
  {
   "cell_type": "code",
   "execution_count": null,
   "metadata": {},
   "outputs": [],
   "source": [
    "df = pd.read_csv('customer_data.csv')"
   ]
  },
  {
   "cell_type": "markdown",
   "metadata": {},
   "source": [
    "##### Group the data by age and calculate the total purchases for each age group"
   ]
  },
  {
   "cell_type": "code",
   "execution_count": null,
   "metadata": {},
   "outputs": [],
   "source": [
    "age_purchases = df.groupby('Age')['PurchaseHistory'].sum().reset_index()"
   ]
  },
  {
   "cell_type": "markdown",
   "metadata": {},
   "source": [
    "##### Find the age group with the highest total purchases"
   ]
  },
  {
   "cell_type": "code",
   "execution_count": null,
   "metadata": {},
   "outputs": [],
   "source": [
    "most_purchasing_age_set = age_purchases.loc[age_purchases['PurchaseHistory'].idxmax()]"
   ]
  },
  {
   "cell_type": "markdown",
   "metadata": {},
   "source": [
    "##### Print the result"
   ]
  },
  {
   "cell_type": "code",
   "execution_count": null,
   "metadata": {},
   "outputs": [],
   "source": [
    "print(\"Age group with the highest total purchases:\")\n",
    "print(most_purchasing_age_set)"
   ]
  },
  {
   "cell_type": "markdown",
   "metadata": {},
   "source": [
    "##### Group by Location"
   ]
  },
  {
   "cell_type": "code",
   "execution_count": null,
   "metadata": {},
   "outputs": [],
   "source": [
    "location = df.groupby('region')['PurchaseHistory'].sum().reset_index()\n",
    "print (location)"
   ]
  },
  {
   "cell_type": "markdown",
   "metadata": {},
   "source": [
    "##### Group by highest purchasing location"
   ]
  },
  {
   "cell_type": "code",
   "execution_count": null,
   "metadata": {},
   "outputs": [],
   "source": [
    "most_purchasing_location = location.loc[location['PurchaseHistory'].idxmax()]\n",
    "# Initialize the Dash app\n",
    "app = dash.Dash(__name__)\n",
    "\n",
    "# Define the layout of the dashboard\n",
    "app.layout = html.Div([\n",
    "    html.H1(\"Customer Data Analysis Dashboard Purchase by Location\"),\n",
    "        \n",
    "    # Bar chart displaying total spend by age\n",
    "    dcc.Graph(\n",
    "        id='most-purchase-by-location',\n",
    "        figure=px.line(df, x='region', y='TotalSpend', title='Most Purchase by Location')\n",
    "        \n",
    "    ),\n",
    "    \n",
    "    \n",
    "])\n",
    "\n",
    "# Run the app\n",
    "if __name__ == '__main__':\n",
    "    app.run_server(debug=True)\n",
    "\n",
    "print(\"Location with the highest total purchases:\")\n",
    "print(most_purchasing_location)"
   ]
  },
  {
   "cell_type": "markdown",
   "metadata": {},
   "source": [
    "##### Group by lowest purchase location"
   ]
  },
  {
   "cell_type": "code",
   "execution_count": null,
   "metadata": {},
   "outputs": [],
   "source": [
    "low_purchasing_location = location.loc[location['PurchaseHistory'].idxmin()]\n",
    "print(\"Location with the lowest total purchases:\")\n",
    "print(low_purchasing_location)"
   ]
  },
  {
   "cell_type": "code",
   "execution_count": null,
   "metadata": {},
   "outputs": [],
   "source": [
    "# Calculate the purchase percentiles\n",
    "purchase_percentiles = df['TotalSpend'].quantile([0.25, 0.50, 0.75, 0.90, 0.95, 0.99, 1.00])\n",
    "\n",
    "# Find the highest purchase percentile\n",
    "highest_purchase_percentile = purchase_percentiles[1.00]  # The 100th percentile\n",
    "\n",
    "# Print the result\n",
    "print(\"Highest purchase percentile:\", highest_purchase_percentile)"
   ]
  },
  {
   "cell_type": "code",
   "execution_count": null,
   "metadata": {},
   "outputs": [],
   "source": [
    "# Calculate the purchase percentiles\n",
    "purchase_percentiles = df['TotalSpend'].quantile([0.25, 0.50, 0.75, 0.90, 0.95, 0.99, 1.00])\n",
    "\n",
    "# Find the highest purchase percentile\n",
    "lowest_purchase_percentile = purchase_percentiles[0.25]  # The 100th percentile\n",
    "\n",
    "# Print the result\n",
    "print(\"Lowest purchase percentile:\", lowest_purchase_percentile)"
   ]
  },
  {
   "cell_type": "code",
   "execution_count": null,
   "metadata": {},
   "outputs": [],
   "source": []
  },
  {
   "cell_type": "code",
   "execution_count": null,
   "metadata": {},
   "outputs": [],
   "source": [
    "import dash\n",
    "from dash import dcc\n",
    "from dash import html\n",
    "import pandas as pd\n",
    "from dash import dash_table\n",
    "import plotly.express as px\n",
    "\n",
    "# Read the CSV file into a Pandas DataFrame\n",
    "df = pd.read_csv('customer_data.csv')\n",
    "\n",
    "# Initialize the Dash app\n",
    "app = dash.Dash(__name__)\n",
    "\n",
    "# Define the layout of the dashboard\n",
    "app.layout = html.Div([\n",
    "    html.H1(\"Customer Data Analysis Dashboard\"),\n",
    "    \n",
    "    # Bar chart displaying total spend by age\n",
    "    dcc.Graph(\n",
    "        id='total-spend-by-age',\n",
    "        figure=px.bar(df, x='Age', y='TotalSpend', title='Total Spend by Age')\n",
    "    ),\n",
    "    \n",
    "    # Table displaying customer data\n",
    "    html.H2(\"Customer Data\"),\n",
    "    dash_table.DataTable(\n",
    "        id='customer-table',\n",
    "        columns=[{'name': col, 'id': col} for col in df.columns],\n",
    "        data=df.to_dict('records')\n",
    "    )\n",
    "])\n",
    "\n",
    "# Run the app\n",
    "if __name__ == '__main__':\n",
    "    app.run_server(debug=True)\n"
   ]
  }
 ],
 "metadata": {
  "kernelspec": {
   "display_name": "base",
   "language": "python",
   "name": "python3"
  },
  "language_info": {
   "codemirror_mode": {
    "name": "ipython",
    "version": 3
   },
   "file_extension": ".py",
   "mimetype": "text/x-python",
   "name": "python",
   "nbconvert_exporter": "python",
   "pygments_lexer": "ipython3",
   "version": "3.10.8"
  },
  "orig_nbformat": 4
 },
 "nbformat": 4,
 "nbformat_minor": 2
}
